{
 "cells": [
  {
   "cell_type": "code",
   "execution_count": null,
   "metadata": {},
   "outputs": [],
   "source": [
    "import pandas as pd\n",
    "import matplotlib as mpl\n",
    "import matplotlib.pyplot as plt\n",
    "%matplotlib inline\n",
    "import seaborn as sns\n",
    "sns.set()\n",
    "plt.style.use('seaborn-muted') # unbunter Stil\n",
    "import numpy as np \n",
    "import re"
   ]
  },
  {
   "cell_type": "code",
   "execution_count": null,
   "metadata": {},
   "outputs": [],
   "source": [
    "df = pd.read_csv('SIK_ISEA_Personen.csv', sep = \";\")"
   ]
  },
  {
   "cell_type": "markdown",
   "metadata": {},
   "source": [
    "Informationen zu Umfang und Inhalt des Datensatzes"
   ]
  },
  {
   "cell_type": "code",
   "execution_count": null,
   "metadata": {},
   "outputs": [],
   "source": [
    "df.dtypes # Ermitteln der Datentypen"
   ]
  },
  {
   "cell_type": "code",
   "execution_count": null,
   "metadata": {},
   "outputs": [],
   "source": [
    "df.columns # Spaltennamen mithilfe des columns-Attributes ermitteln"
   ]
  },
  {
   "cell_type": "code",
   "execution_count": null,
   "metadata": {},
   "outputs": [],
   "source": [
    "df.head(2) # erste Zeilen ausgeben mit df.head(n)"
   ]
  },
  {
   "cell_type": "code",
   "execution_count": null,
   "metadata": {},
   "outputs": [],
   "source": [
    "df.tail(2) # letzte Zeilen ausgeben"
   ]
  },
  {
   "cell_type": "code",
   "execution_count": null,
   "metadata": {},
   "outputs": [],
   "source": [
    "df.count(axis=0, numeric_only=False)\n",
    "\n",
    "# Anzahl Werte pro Spalte zählen, die vorhanden, d.h. nicht-NA sind. \n",
    "# Mit dem Axis-Wert 0 oder 'index' werden die Werte pro Spalte gezählt.\n",
    "# Mit  axis=1 oder ‘columns’ würden die Werte jeder Zeile gezählt"
   ]
  },
  {
   "cell_type": "code",
   "execution_count": null,
   "metadata": {},
   "outputs": [],
   "source": [
    "# erste Visualisierung mit Pandas - Säulendiagramm\n",
    "# Die ursprüngliche Grafik war etwas klein und wurde vergrössert\n",
    "\n",
    "df.count(axis=0, numeric_only=False).plot(figsize=(10,6),kind='bar',\n",
    "                                  color='forestgreen', title=\"ANZAHL WERTE DER EINZELNEN SPALTEN\") "
   ]
  },
  {
   "cell_type": "code",
   "execution_count": null,
   "metadata": {},
   "outputs": [],
   "source": [
    "# Spalten, die für die Analyse nicht benötigt werden, werden entfernt\n",
    "df = df.drop(['NUTZUNGSLIZENZ', 'GND', 'HLS_ID', 'SIKART_LINK'], axis=1)\n",
    "df.head(3)"
   ]
  },
  {
   "cell_type": "markdown",
   "metadata": {},
   "source": [
    "Spalten \"Bereich\" und \"Typus\" auf ihre Begriffe und Häufigkeit anschauen"
   ]
  },
  {
   "cell_type": "code",
   "execution_count": null,
   "metadata": {},
   "outputs": [],
   "source": [
    "df['BEREICH'].unique()  # Jeden Begriff der Spalte Bereich ausgeben. In der Liste wurden einzelne Personen, Familien und Gruppen erfasst"
   ]
  },
  {
   "cell_type": "code",
   "execution_count": null,
   "metadata": {},
   "outputs": [],
   "source": [
    "# BEREICH wird als Key ausgewählt, HAUPTNR als Index\n",
    "bereich = df.groupby(\"BEREICH\")['HAUPTNR'].count()\n",
    "bereich.plot(figsize=(8,3), kind='barh', color='orchid', title=\"VERTEILUNG DER SPALTE BEREICH\")\n",
    "plt.ylabel('') \n",
    "\n",
    "# Entfernung des Spaltennamens bzw. der Beschriftung der y-Achse\n",
    "# Alternative Schreibweise: df.groupby(\"BEREICH\")['HAUPTNR'].count().plot(kind='barh', color='orchid', title=\"...\") \n",
    "# Balkendiagramm: mit barh = bar horizontal wird das Diagramm gedreht\n",
    "# Beim überwiegenden Teil der Instanzen im Datensatz handelt es sich um Personen, Gruppen und Familien sind vernachlässigbar"
   ]
  },
  {
   "cell_type": "code",
   "execution_count": null,
   "metadata": {},
   "outputs": [],
   "source": [
    "df['TYPUS'].unique() # Begriffe der Spalte \"Typus\" ausgeben. Es handelt sich um Berufe"
   ]
  },
  {
   "cell_type": "code",
   "execution_count": null,
   "metadata": {},
   "outputs": [],
   "source": [
    "df.groupby(\"TYPUS\")['HAUPTNR'].count() # Häufigkeit der charakteristischen Berufe ermitteln"
   ]
  },
  {
   "cell_type": "code",
   "execution_count": null,
   "metadata": {},
   "outputs": [],
   "source": [
    "# Die Unterscheidung, ob der Begriff FotografIn aufgrund eines Lexikon-Eintrages vergeben wurde oder nicht, spielt hier keine Rolle\n",
    "# Der Begriff (Lexikon) wird mit einer regular expression entfernt\n",
    "# Klammern () müssen in eckigen Klammern [] geschrieben werden, damit sie ersetzt werden\n",
    "df['TYPUS'] = df['TYPUS'].replace(to_replace={' [(]Lexikon[)]': ''}, regex=True)"
   ]
  },
  {
   "cell_type": "code",
   "execution_count": null,
   "metadata": {},
   "outputs": [],
   "source": [
    "berufe = df.groupby(\"TYPUS\")['HAUPTNR'].count() # Häufigkeit der charakteristischen Berufe wird neu gezählt\n",
    "print(berufe)"
   ]
  },
  {
   "cell_type": "code",
   "execution_count": null,
   "metadata": {},
   "outputs": [],
   "source": [
    "berufe.plot(figsize=(8,4), kind='barh', color='slateblue', title=\"BERUFE\") \n",
    "plt.ylabel('')"
   ]
  },
  {
   "cell_type": "markdown",
   "metadata": {},
   "source": [
    "Häufigkeit der Namen"
   ]
  },
  {
   "cell_type": "code",
   "execution_count": null,
   "metadata": {},
   "outputs": [],
   "source": [
    "name = df.groupby('NAME')['HAUPTNR'].count().sort_values(ascending=False) \n",
    "print(name)"
   ]
  },
  {
   "cell_type": "code",
   "execution_count": null,
   "metadata": {},
   "outputs": [],
   "source": [
    "np.sum(name > 10) \n",
    "# Mit einem booleschen Array können die Anzahl Einträge, bzw. Namen gezählt werden, die mehr als x mal auftreten (JVDPL S.92)\n",
    "# 126 Namen treten mehr als 10 mal im Datensatz auf"
   ]
  },
  {
   "cell_type": "code",
   "execution_count": null,
   "metadata": {},
   "outputs": [],
   "source": [
    "np.sum(name == 1) \n",
    "# 6472 Namen treten genau einmal im Datensatz auf"
   ]
  },
  {
   "cell_type": "code",
   "execution_count": null,
   "metadata": {},
   "outputs": [],
   "source": [
    "np.sum((name > 1) & (name <= 10)) \n",
    "# Mithilfe der bitweisen Logikoperatoren von Python lässt sich feststellen, wie viele Namen 2 bis 10 mal auftreten (JVDPL S. 93)"
   ]
  },
  {
   "cell_type": "code",
   "execution_count": null,
   "metadata": {},
   "outputs": [],
   "source": [
    "topname = name[name > 25]# Namen, die mehr als 25mal auftreten mittels Maskierung ermitteln (JVDPL S.94)\n",
    "print(topname)"
   ]
  },
  {
   "cell_type": "code",
   "execution_count": null,
   "metadata": {},
   "outputs": [],
   "source": [
    "topname.plot(figsize=(9, 9), kind='pie', title='HÄUFIGSTE NAMEN',cmap='ocean')\n",
    "plt.ylabel('') "
   ]
  },
  {
   "cell_type": "code",
   "execution_count": null,
   "metadata": {},
   "outputs": [],
   "source": [
    " # damit die weiblichen Vornamen ausgewählt werden können, muss die Spalte \"TYPUS\" als Index gesetzt werden\n",
    "df_typus = df.set_index(\"TYPUS\")\n",
    "# Auswahl der Zeilen \"Künstlerin\", sowie der Spalten Vorname und Hauptnr.\n",
    "# Auswahl von 2 Spalten, damit ein Dataframe bestehen bleibt und ein Pie-Plot möglich ist\n",
    "df_typus_weiblich = df_typus.loc[[\"Künstlerin\"], ['VORNAME', 'HAUPTNR']] \n",
    "wvorname = df_typus_weiblich.groupby('VORNAME')['HAUPTNR'].count().sort_values(ascending=False)\n",
    "print(wvorname)"
   ]
  },
  {
   "cell_type": "code",
   "execution_count": null,
   "metadata": {},
   "outputs": [],
   "source": [
    "wvorname_top = wvorname[wvorname > 15]\n",
    "wvorname_top.plot(figsize=(10,10), kind='pie',x='VORNAME',y='HAUPTNR', title='HÄUFIGSTE WEIBLICHE VORNAMEN', cmap='Spectral')\n",
    "plt.ylabel('')"
   ]
  },
  {
   "cell_type": "markdown",
   "metadata": {},
   "source": [
    "Analyse und Plot-Variationen Geburtsländer"
   ]
  },
  {
   "cell_type": "code",
   "execution_count": null,
   "metadata": {},
   "outputs": [],
   "source": [
    "df['GEBURTSLAND'].unique() # Ausgabe sämtlicher Begriffe. Diese bestehen meistens nur aus den Länderkürzeln"
   ]
  },
  {
   "cell_type": "code",
   "execution_count": null,
   "metadata": {},
   "outputs": [],
   "source": [
    "df['GEBURTSLAND'].nunique() # Ausgabe der Anzahl Länder"
   ]
  },
  {
   "cell_type": "code",
   "execution_count": null,
   "metadata": {},
   "outputs": [],
   "source": [
    "land = df.groupby(\"GEBURTSLAND\")['HAUPTNR'].count().sort_values(ascending=False)\n",
    "print(land)"
   ]
  },
  {
   "cell_type": "code",
   "execution_count": null,
   "metadata": {},
   "outputs": [],
   "source": [
    "# Ausgabe mit einfachem Pandas-Plot\n",
    "# Art des Diagrammes als Methode .line und nicht als Keyword-Argument\n",
    "# Die Beschriftung der x-Achse \"GEBURTSLAND\" konnte nicht entfernt werden\n",
    "\n",
    "land.plot.line(figsize=(8,4), color='green', title='VERTEILUNG DER GEBURTSLÄNDER') "
   ]
  },
  {
   "cell_type": "code",
   "execution_count": null,
   "metadata": {},
   "outputs": [],
   "source": [
    "# Besser ist die Ausgabe mit einem Streudiagramm, da es sich bei Ländern um distinkte Einheiten handelt\n",
    "plt.figure(figsize=(18,4))\n",
    "ax = plt.axes()\n",
    "plt.plot(land, 'o', color='red')\n",
    "ax.set(xlim=(-1, 120), ylim=(-1000, 14000), title='VERTEILUNG DER GEBURTSLÄNDER')\n",
    "plt.xlabel('xlabel', fontsize=1)\n",
    "plt.xticks(rotation=90);"
   ]
  },
  {
   "cell_type": "code",
   "execution_count": null,
   "metadata": {},
   "outputs": [],
   "source": [
    " # Logarithmische Darstellung der Y-Achse\n",
    "\n",
    "plt.figure(figsize=(18,4))\n",
    "ax = plt.axes()\n",
    "plt.plot(land, 'o', color='red')\n",
    "plt.yscale('log')\n",
    "ax.set(xlim=(-1, 120), title='VERTEILUNG DER GEBURTSLÄNDER')\n",
    "plt.xlabel('xlabel', fontsize=1)\n",
    "plt.xticks(rotation=90);"
   ]
  },
  {
   "cell_type": "code",
   "execution_count": null,
   "metadata": {},
   "outputs": [],
   "source": [
    "# Obwohl Familien und Gruppen kaum vorkommen, sollen  sie für die weitere Auswertung nach Geburtsländern nicht berücksichtigt werden\n",
    "\n",
    "df_bereich = df.set_index(\"BEREICH\") # Spalte \"BEREICH\" in Index umfunktionieren\n",
    "df_person = df_bereich.loc[\"Person\"]# Nur Zeilen mit dem Index-Wert Person ausgeben"
   ]
  },
  {
   "cell_type": "code",
   "execution_count": null,
   "metadata": {},
   "outputs": [],
   "source": [
    "pers_land = df_person.GEBURTSLAND.value_counts()\n",
    "\n",
    "# Gibt eine Series aus in welchen Ländern die meisten Personen geboren sind, Sortiert automatisch, NA-Werte werden gelöscht. \n",
    "print(pers_land)"
   ]
  },
  {
   "cell_type": "code",
   "execution_count": null,
   "metadata": {},
   "outputs": [],
   "source": [
    "# Länder, die weniger als 1o mal auftreten, unter \"Andere\" zusammengefasst\n",
    "threshold = 10\n",
    "mask = pers_land > threshold\n",
    "tail_pers_land = pers_land.loc[~mask].sum()\n",
    "pers_land = pers_land.loc[mask]"
   ]
  },
  {
   "cell_type": "code",
   "execution_count": null,
   "metadata": {},
   "outputs": [],
   "source": [
    "# Werte werden neu sortiert, damit die Ländergruppe \"Andere\" nicht am Schluss angezeigt wird\n",
    "print(pers_land)\n",
    "pers_land['ANDERE'] = tail_pers_land\n",
    "pers_land = pers_land.sort_values(ascending=False) "
   ]
  },
  {
   "cell_type": "code",
   "execution_count": null,
   "metadata": {},
   "outputs": [],
   "source": [
    " # Logarithmische Darstellung der Y-Achse für Länder > 10 Werte\n",
    "plt.figure(figsize=(14,4))\n",
    "ax = plt.axes()\n",
    "plt.plot(pers_land, 'o', color='red')\n",
    "plt.yscale('log')\n",
    "ax.set(title='VERTEILUNG DER GEBURTSLÄNDER')\n",
    "plt.xticks(rotation=90);"
   ]
  },
  {
   "cell_type": "code",
   "execution_count": null,
   "metadata": {},
   "outputs": [],
   "source": [
    "# Geburtsländer ohne Schweiz\n",
    "ohne_ch = pers_land.drop(labels=['CH'])\n",
    "print(ohne_ch)"
   ]
  },
  {
   "cell_type": "code",
   "execution_count": null,
   "metadata": {},
   "outputs": [],
   "source": [
    "fig, ax = plt.subplots(figsize=(18, 5))\n",
    "sns.barplot(x=ohne_ch.index, y=ohne_ch) \n",
    "ax.set(title='GEBURTSLÄNDER OHNE SCHWEIZ', ylabel='')"
   ]
  },
  {
   "cell_type": "markdown",
   "metadata": {},
   "source": [
    "Geburtsjahre - Sterbejahre - Lebensdauer"
   ]
  },
  {
   "cell_type": "code",
   "execution_count": null,
   "metadata": {},
   "outputs": [],
   "source": [
    "geburtsjahr = pd.Series(df['GEBURTSJAHR']).dropna()\n",
    "geburtsjahr = geburtsjahr.astype('int').sort_values(ascending=False)\n",
    "print(geburtsjahr)"
   ]
  },
  {
   "cell_type": "code",
   "execution_count": null,
   "metadata": {},
   "outputs": [],
   "source": [
    "geburtsjahr.plot(kind='hist', figsize=(4,5), title='GEBURTSJAHRE', color='yellowgreen')\n",
    "plt.ylabel('')"
   ]
  },
  {
   "cell_type": "code",
   "execution_count": null,
   "metadata": {},
   "outputs": [],
   "source": [
    "sterbejahr = pd.Series(df['STERBEJAHR']).dropna()\n",
    "sterbejahr = sterbejahr.astype('int').sort_values(ascending=False)\n",
    "print(sterbejahr)"
   ]
  },
  {
   "cell_type": "code",
   "execution_count": null,
   "metadata": {},
   "outputs": [],
   "source": [
    "sterbejahr.plot(kind='hist', figsize=(4,5), title='STERBEJAHRE')\n",
    "plt.ylabel('')"
   ]
  },
  {
   "cell_type": "code",
   "execution_count": null,
   "metadata": {},
   "outputs": [],
   "source": [
    "fig, ax = plt.subplots()\n",
    "geburtsjahr.plot(kind='hist', color='yellowgreen')\n",
    "sterbejahr.plot(kind='hist', figsize=(4,5), title='GEBURTS- UND STERBEJAHRE')\n",
    "plt.ylabel('')"
   ]
  },
  {
   "cell_type": "code",
   "execution_count": null,
   "metadata": {},
   "outputs": [],
   "source": [
    "# Density-Plot als Spezialfall eines Histogramms\n",
    "fig, ax = plt.subplots()\n",
    "df['GEBURTSJAHR'].plot.density(figsize=(6,4), title='GEBURTS- UND STERBEJAHRE', color='yellowgreen', linewidth=(6))\n",
    "df['STERBEJAHR'].plot.density(linewidth=(6))\n",
    "plt.ylabel('')"
   ]
  },
  {
   "cell_type": "code",
   "execution_count": null,
   "metadata": {},
   "outputs": [],
   "source": [
    "# Subplots mit objektorientierter Programmierung\n",
    "\n",
    "fig = plt.figure(figsize=(10,8))\n",
    "sub1 = fig.add_subplot(221)\n",
    "sub1.set_title('GEBURTSJAHRE')\n",
    "geburtsjahr.plot(kind='hist', color='yellowgreen')\n",
    "plt.ylabel('')\n",
    "\n",
    "sub2 = fig.add_subplot(222)\n",
    "sub2.set_title('STERBEJAHRE')\n",
    "sterbejahr.plot(kind='hist')\n",
    "plt.ylabel('')"
   ]
  },
  {
   "cell_type": "code",
   "execution_count": null,
   "metadata": {},
   "outputs": [],
   "source": [
    "with sns.axes_style('white'):\n",
    "    g = sns.catplot(\"GEBURTSJAHR\",data=df, aspect=4, height=3, kind=\"strip\", color='red')\n",
    "    g = sns.catplot(\"STERBEJAHR\", data=df, aspect=4, height=3, kind=\"strip\", color='steelblue')\n",
    "    g.set_xticklabels(step=2)"
   ]
  },
  {
   "cell_type": "markdown",
   "metadata": {},
   "source": [
    "Lebensdauer "
   ]
  },
  {
   "cell_type": "code",
   "execution_count": null,
   "metadata": {},
   "outputs": [],
   "source": [
    "# Bei einem DataFrame kann die gleiche Syntax wie bei einem Dictionary verwendet werden,\n",
    "# d.h. Spalten können z.B. subtrahiert werden\n",
    "\n",
    "df['LEBENSDAUER'] = df['STERBEJAHR'] - df['GEBURTSJAHR']\n",
    "lebensdauer = pd.Series(df['LEBENSDAUER']).dropna()\n",
    "lebensdauer = lebensdauer.astype('int').sort_values(ascending=False)\n",
    "print(lebensdauer)\n",
    "\n",
    "# es werden unrealistische Lebensjahre ausgegeben"
   ]
  },
  {
   "cell_type": "code",
   "execution_count": null,
   "metadata": {},
   "outputs": [],
   "source": [
    "# Variante zu oben. Es werden zunächst die NAN-Werte von 2 bestimmten Spalten gelöscht, d.h. die Zeilen mit Nan.Werten der jeweiligen Spalten\n",
    "df2 = df.dropna(subset=['GEBURTSJAHR', 'STERBEJAHR'])\n",
    "Lebensdauer = df2['STERBEJAHR'] - df2['GEBURTSJAHR']\n",
    "Lebensdauer = Lebensdauer.astype('int').sort_values(ascending=False)\n",
    "print(Lebensdauer)"
   ]
  },
  {
   "cell_type": "code",
   "execution_count": null,
   "metadata": {},
   "outputs": [],
   "source": [
    "# Zeilen prüfen, die eine unrealistische Lebensdauer ergeben\n",
    "df.loc[10012] # Es handelt sich um eine Künstler-Familie"
   ]
  },
  {
   "cell_type": "code",
   "execution_count": null,
   "metadata": {},
   "outputs": [],
   "source": [
    "df.loc[12330] \n",
    "# Die Lebensdaten sind nicht bekannt.\n",
    "# erfasst wurden Jahre, in denen die Person nachweislich Kunstwerke erschaffen hat (siehe SIKART)"
   ]
  },
  {
   "cell_type": "code",
   "execution_count": null,
   "metadata": {},
   "outputs": [],
   "source": [
    "# Test mit Masking\n",
    "lebenkurz = lebensdauer[lebensdauer > 18] \n",
    "lebenlang = lebenkurz[lebenkurz < 108]\n",
    "print(lebenlang)"
   ]
  },
  {
   "cell_type": "code",
   "execution_count": null,
   "metadata": {},
   "outputs": [],
   "source": [
    "# Zumindest Familien und Gruppen können gelöscht werden, \n",
    "# Zuerst Spalte Bereich als Index definieren\n",
    "# Person als Index und alle Spalten auswählen\n",
    "\n",
    "df_bereich = df.set_index(\"BEREICH\") \n",
    "df_person = df_bereich.loc[[\"Person\"], :] \n",
    "df_person['LEBENSDAUER'] = df_person['STERBEJAHR'] - df_person['GEBURTSJAHR']"
   ]
  },
  {
   "cell_type": "code",
   "execution_count": null,
   "metadata": {},
   "outputs": [],
   "source": [
    "df_person.columns # prüfen, ob die Spalte Lebensdauer ergänzt wurde"
   ]
  },
  {
   "cell_type": "code",
   "execution_count": null,
   "metadata": {},
   "outputs": [],
   "source": [
    "leben = pd.Series(df_person['LEBENSDAUER']).dropna()\n",
    "leben = leben.astype(int)\n",
    "print(leben)"
   ]
  },
  {
   "cell_type": "code",
   "execution_count": null,
   "metadata": {},
   "outputs": [],
   "source": [
    "# hier gelang es nicht, einen Plot auszugeben\n",
    "# leben.plot(kind='bar')"
   ]
  },
  {
   "cell_type": "code",
   "execution_count": null,
   "metadata": {},
   "outputs": [],
   "source": [
    "# Variante mit Seaborn\n",
    "# zuerst müssen die Nan-Werte entfernt werden\n",
    "\n",
    "df = df.dropna(subset=['LEBENSDAUER'])\n",
    "df['LEBENSDAUER'] = df['LEBENSDAUER'].astype(int)"
   ]
  },
  {
   "cell_type": "code",
   "execution_count": null,
   "metadata": {},
   "outputs": [],
   "source": [
    "with sns.axes_style('white'):\n",
    "    g = sns.catplot(\"LEBENSDAUER\", data=df, aspect=2.5, kind=\"count\")\n",
    "    (g.set_xticklabels(step=5)\n",
    "     .set_axis_labels(\"Lebensdauer\", \"Anzahl\"))\n",
    "    \n",
    "# ax.set_title('GEBURTSJAHRE IN JAHRZEHNTEN',fontsize=5) \n",
    "# Der Titel konnte nicht eingefügt werden\n",
    "# die unrealistischen Lebensjahre sind im Plot enthalten"
   ]
  },
  {
   "cell_type": "code",
   "execution_count": null,
   "metadata": {},
   "outputs": [],
   "source": [
    "# Spalte Geburtsjahre nach Jahrzehnt wurde hinzugefügt\n",
    "# Ziel war es, eine geringere Zahl Jahre zu erhalten\n",
    "df['JAHRZEHNT'] = 10 * (df['GEBURTSJAHR'] // 10) \n",
    "df.columns"
   ]
  },
  {
   "cell_type": "code",
   "execution_count": null,
   "metadata": {},
   "outputs": [],
   "source": [
    "df.head(2)"
   ]
  },
  {
   "cell_type": "code",
   "execution_count": null,
   "metadata": {},
   "outputs": [],
   "source": [
    "df['JAHRZEHNT'].dtypes "
   ]
  },
  {
   "cell_type": "code",
   "execution_count": null,
   "metadata": {},
   "outputs": [],
   "source": [
    "df['JAHRZEHNT'].unique() "
   ]
  },
  {
   "cell_type": "code",
   "execution_count": null,
   "metadata": {},
   "outputs": [],
   "source": [
    "# Filtern der Nan-Werte und Umwandlung float zu integer \n",
    "\n",
    "df = df.dropna(subset=['JAHRZEHNT'])\n",
    "df['JAHRZEHNT'] = df['JAHRZEHNT'].astype(int)"
   ]
  },
  {
   "cell_type": "code",
   "execution_count": null,
   "metadata": {},
   "outputs": [],
   "source": [
    "with sns.axes_style('white'):\n",
    "    g = sns.catplot(\"JAHRZEHNT\", data=df, aspect=2.5, kind=\"count\")\n",
    "    (g.set_xticklabels(step=5)\n",
    "     .set_axis_labels(\"Jahrzehnte\", \"Anzahl\"))\n",
    "# ax.set_title('GEBURTSJAHRE IN JAHRZEHNTEN',fontsize=5) \n",
    "# Der Titel konnte nicht eingefügt werden"
   ]
  },
  {
   "cell_type": "markdown",
   "metadata": {},
   "source": [
    "Bearbeitungstiefe - Qualität der biographischen Daten"
   ]
  },
  {
   "cell_type": "code",
   "execution_count": null,
   "metadata": {},
   "outputs": [],
   "source": [
    "df.groupby('BEARBEITUNGSTIEFE').count() # Die Bearbeitungstiefe wird mit Sternchen angegeben"
   ]
  },
  {
   "cell_type": "code",
   "execution_count": null,
   "metadata": {},
   "outputs": [],
   "source": [
    "# Die Sternchen in der Spalte Bearbeitungstiefe sollen durch numerische Werte (Integers) ersetzt werden\n",
    "df['BEARBEITUNGSTIEFE'] = df['BEARBEITUNGSTIEFE'].dropna().replace(\"*****\", int(5)).replace(\"****\", int(4)).replace(\"***\", int(3)).replace(\"**\", int(2)).replace(\"*\", int(1))\n"
   ]
  },
  {
   "cell_type": "code",
   "execution_count": null,
   "metadata": {},
   "outputs": [],
   "source": [
    "sns.catplot(\n",
    "    data=df,\n",
    "    x='BEARBEITUNGSTIEFE',\n",
    "    y='HAUPTNR',\n",
    "    kind='strip',\n",
    "    height=5, \n",
    "    aspect=3) # Breite"
   ]
  },
  {
   "cell_type": "code",
   "execution_count": null,
   "metadata": {},
   "outputs": [],
   "source": [
    "sns.catplot(\n",
    "    data=df,\n",
    "    x='BEARBEITUNGSTIEFE',\n",
    "    kind='count',\n",
    "    height=5, # make the plot 5 units high\n",
    "    aspect=3) # height should be three times width"
   ]
  },
  {
   "cell_type": "code",
   "execution_count": null,
   "metadata": {},
   "outputs": [],
   "source": [
    "# Die Bearbeitungstiefe der SIKART-Daten wird nicht durch das Geburtsjahr bestimmt\n",
    "sns.relplot(y='BEARBEITUNGSTIEFE', x='GEBURTSJAHR',\n",
    "            sizes=(40, 400), alpha=.5\n",
    "            , palette=\"muted\",\n",
    "            height=6, data=df)"
   ]
  }
 ],
 "metadata": {
  "kernelspec": {
   "display_name": "Python 3",
   "language": "python",
   "name": "python3"
  },
  "language_info": {
   "codemirror_mode": {
    "name": "ipython",
    "version": 3
   },
   "file_extension": ".py",
   "mimetype": "text/x-python",
   "name": "python",
   "nbconvert_exporter": "python",
   "pygments_lexer": "ipython3",
   "version": "3.7.5"
  }
 },
 "nbformat": 4,
 "nbformat_minor": 4
}
